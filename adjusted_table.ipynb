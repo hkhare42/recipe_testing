{
 "cells": [
  {
   "cell_type": "code",
   "execution_count": 1,
   "metadata": {},
   "outputs": [],
   "source": [
    "from itertools import combinations"
   ]
  },
  {
   "cell_type": "code",
   "execution_count": 2,
   "metadata": {},
   "outputs": [],
   "source": [
    "import pandas as pd\n",
    "import numpy as np"
   ]
  },
  {
   "cell_type": "code",
   "execution_count": 3,
   "metadata": {},
   "outputs": [],
   "source": [
    "# import results data for the current season as of Nov 23 2018\n",
    "results = pd.read_csv('http://www.football-data.co.uk/mmz4281/1819/E0.csv')"
   ]
  },
  {
   "cell_type": "code",
   "execution_count": 4,
   "metadata": {},
   "outputs": [],
   "source": [
    "# results.to_csv('pl_results_20181123.csv', encoding='utf-8', index=False)"
   ]
  },
  {
   "cell_type": "code",
   "execution_count": 5,
   "metadata": {},
   "outputs": [
    {
     "data": {
      "text/html": [
       "<div>\n",
       "<style scoped>\n",
       "    .dataframe tbody tr th:only-of-type {\n",
       "        vertical-align: middle;\n",
       "    }\n",
       "\n",
       "    .dataframe tbody tr th {\n",
       "        vertical-align: top;\n",
       "    }\n",
       "\n",
       "    .dataframe thead th {\n",
       "        text-align: right;\n",
       "    }\n",
       "</style>\n",
       "<table border=\"1\" class=\"dataframe\">\n",
       "  <thead>\n",
       "    <tr style=\"text-align: right;\">\n",
       "      <th></th>\n",
       "      <th>Div</th>\n",
       "      <th>Date</th>\n",
       "      <th>HomeTeam</th>\n",
       "      <th>AwayTeam</th>\n",
       "      <th>FTHG</th>\n",
       "      <th>FTAG</th>\n",
       "      <th>FTR</th>\n",
       "      <th>HTHG</th>\n",
       "      <th>HTAG</th>\n",
       "      <th>HTR</th>\n",
       "      <th>...</th>\n",
       "      <th>BbAv&lt;2.5</th>\n",
       "      <th>BbAH</th>\n",
       "      <th>BbAHh</th>\n",
       "      <th>BbMxAHH</th>\n",
       "      <th>BbAvAHH</th>\n",
       "      <th>BbMxAHA</th>\n",
       "      <th>BbAvAHA</th>\n",
       "      <th>PSCH</th>\n",
       "      <th>PSCD</th>\n",
       "      <th>PSCA</th>\n",
       "    </tr>\n",
       "  </thead>\n",
       "  <tbody>\n",
       "    <tr>\n",
       "      <th>0</th>\n",
       "      <td>E0</td>\n",
       "      <td>10/08/18</td>\n",
       "      <td>Man United</td>\n",
       "      <td>Leicester</td>\n",
       "      <td>2</td>\n",
       "      <td>1</td>\n",
       "      <td>H</td>\n",
       "      <td>1</td>\n",
       "      <td>0</td>\n",
       "      <td>H</td>\n",
       "      <td>...</td>\n",
       "      <td>1.79</td>\n",
       "      <td>17</td>\n",
       "      <td>-0.75</td>\n",
       "      <td>1.75</td>\n",
       "      <td>1.70</td>\n",
       "      <td>2.29</td>\n",
       "      <td>2.21</td>\n",
       "      <td>1.55</td>\n",
       "      <td>4.07</td>\n",
       "      <td>7.69</td>\n",
       "    </tr>\n",
       "    <tr>\n",
       "      <th>1</th>\n",
       "      <td>E0</td>\n",
       "      <td>11/08/18</td>\n",
       "      <td>Bournemouth</td>\n",
       "      <td>Cardiff</td>\n",
       "      <td>2</td>\n",
       "      <td>0</td>\n",
       "      <td>H</td>\n",
       "      <td>1</td>\n",
       "      <td>0</td>\n",
       "      <td>H</td>\n",
       "      <td>...</td>\n",
       "      <td>1.83</td>\n",
       "      <td>20</td>\n",
       "      <td>-0.75</td>\n",
       "      <td>2.20</td>\n",
       "      <td>2.13</td>\n",
       "      <td>1.80</td>\n",
       "      <td>1.75</td>\n",
       "      <td>1.88</td>\n",
       "      <td>3.61</td>\n",
       "      <td>4.70</td>\n",
       "    </tr>\n",
       "    <tr>\n",
       "      <th>2</th>\n",
       "      <td>E0</td>\n",
       "      <td>11/08/18</td>\n",
       "      <td>Fulham</td>\n",
       "      <td>Crystal Palace</td>\n",
       "      <td>0</td>\n",
       "      <td>2</td>\n",
       "      <td>A</td>\n",
       "      <td>0</td>\n",
       "      <td>1</td>\n",
       "      <td>A</td>\n",
       "      <td>...</td>\n",
       "      <td>1.87</td>\n",
       "      <td>22</td>\n",
       "      <td>-0.25</td>\n",
       "      <td>2.18</td>\n",
       "      <td>2.11</td>\n",
       "      <td>1.81</td>\n",
       "      <td>1.77</td>\n",
       "      <td>2.62</td>\n",
       "      <td>3.38</td>\n",
       "      <td>2.90</td>\n",
       "    </tr>\n",
       "    <tr>\n",
       "      <th>3</th>\n",
       "      <td>E0</td>\n",
       "      <td>11/08/18</td>\n",
       "      <td>Huddersfield</td>\n",
       "      <td>Chelsea</td>\n",
       "      <td>0</td>\n",
       "      <td>3</td>\n",
       "      <td>A</td>\n",
       "      <td>0</td>\n",
       "      <td>2</td>\n",
       "      <td>A</td>\n",
       "      <td>...</td>\n",
       "      <td>1.84</td>\n",
       "      <td>23</td>\n",
       "      <td>1.00</td>\n",
       "      <td>1.84</td>\n",
       "      <td>1.80</td>\n",
       "      <td>2.13</td>\n",
       "      <td>2.06</td>\n",
       "      <td>7.24</td>\n",
       "      <td>3.95</td>\n",
       "      <td>1.58</td>\n",
       "    </tr>\n",
       "    <tr>\n",
       "      <th>4</th>\n",
       "      <td>E0</td>\n",
       "      <td>11/08/18</td>\n",
       "      <td>Newcastle</td>\n",
       "      <td>Tottenham</td>\n",
       "      <td>1</td>\n",
       "      <td>2</td>\n",
       "      <td>A</td>\n",
       "      <td>1</td>\n",
       "      <td>2</td>\n",
       "      <td>A</td>\n",
       "      <td>...</td>\n",
       "      <td>1.81</td>\n",
       "      <td>20</td>\n",
       "      <td>0.25</td>\n",
       "      <td>2.20</td>\n",
       "      <td>2.12</td>\n",
       "      <td>1.80</td>\n",
       "      <td>1.76</td>\n",
       "      <td>4.74</td>\n",
       "      <td>3.53</td>\n",
       "      <td>1.89</td>\n",
       "    </tr>\n",
       "  </tbody>\n",
       "</table>\n",
       "<p>5 rows × 62 columns</p>\n",
       "</div>"
      ],
      "text/plain": [
       "  Div      Date      HomeTeam        AwayTeam  FTHG  FTAG FTR  HTHG  HTAG HTR  \\\n",
       "0  E0  10/08/18    Man United       Leicester     2     1   H     1     0   H   \n",
       "1  E0  11/08/18   Bournemouth         Cardiff     2     0   H     1     0   H   \n",
       "2  E0  11/08/18        Fulham  Crystal Palace     0     2   A     0     1   A   \n",
       "3  E0  11/08/18  Huddersfield         Chelsea     0     3   A     0     2   A   \n",
       "4  E0  11/08/18     Newcastle       Tottenham     1     2   A     1     2   A   \n",
       "\n",
       "   ...  BbAv<2.5  BbAH  BbAHh  BbMxAHH  BbAvAHH  BbMxAHA  BbAvAHA  PSCH  PSCD  \\\n",
       "0  ...      1.79    17  -0.75     1.75     1.70     2.29     2.21  1.55  4.07   \n",
       "1  ...      1.83    20  -0.75     2.20     2.13     1.80     1.75  1.88  3.61   \n",
       "2  ...      1.87    22  -0.25     2.18     2.11     1.81     1.77  2.62  3.38   \n",
       "3  ...      1.84    23   1.00     1.84     1.80     2.13     2.06  7.24  3.95   \n",
       "4  ...      1.81    20   0.25     2.20     2.12     1.80     1.76  4.74  3.53   \n",
       "\n",
       "   PSCA  \n",
       "0  7.69  \n",
       "1  4.70  \n",
       "2  2.90  \n",
       "3  1.58  \n",
       "4  1.89  \n",
       "\n",
       "[5 rows x 62 columns]"
      ]
     },
     "execution_count": 5,
     "metadata": {},
     "output_type": "execute_result"
    }
   ],
   "source": [
    "results.head()"
   ]
  },
  {
   "cell_type": "code",
   "execution_count": 6,
   "metadata": {},
   "outputs": [],
   "source": [
    "# create modified results dataframe in required format\n",
    "home_results = (results\n",
    "               .assign(points = results.FTR.map({'H': 3, 'A': 0, 'D': 1}),\n",
    "                       venue = 'home')\n",
    "               .rename(columns = {\n",
    "                   'HomeTeam': 'team',\n",
    "                   'AwayTeam': 'opponent'\n",
    "               })\n",
    "               .loc[:, ['team','opponent','venue','points']])\n",
    "\n",
    "away_results = (results\n",
    "               .assign(points = results.FTR.map({'A': 3, 'H': 0, 'D': 1}),\n",
    "                       venue = 'away')\n",
    "               .rename(columns = {\n",
    "                   'AwayTeam': 'team',\n",
    "                   'HomeTeam': 'opponent'\n",
    "               })\n",
    "               .loc[:, ['team','opponent','venue','points']])\n",
    "\n",
    "modified_results = pd.concat([home_results, away_results], ignore_index=True, sort=False)"
   ]
  },
  {
   "cell_type": "code",
   "execution_count": 7,
   "metadata": {},
   "outputs": [
    {
     "data": {
      "text/html": [
       "<div>\n",
       "<style scoped>\n",
       "    .dataframe tbody tr th:only-of-type {\n",
       "        vertical-align: middle;\n",
       "    }\n",
       "\n",
       "    .dataframe tbody tr th {\n",
       "        vertical-align: top;\n",
       "    }\n",
       "\n",
       "    .dataframe thead th {\n",
       "        text-align: right;\n",
       "    }\n",
       "</style>\n",
       "<table border=\"1\" class=\"dataframe\">\n",
       "  <thead>\n",
       "    <tr style=\"text-align: right;\">\n",
       "      <th></th>\n",
       "      <th>team</th>\n",
       "      <th>opponent</th>\n",
       "      <th>venue</th>\n",
       "      <th>points</th>\n",
       "    </tr>\n",
       "  </thead>\n",
       "  <tbody>\n",
       "    <tr>\n",
       "      <th>0</th>\n",
       "      <td>Man United</td>\n",
       "      <td>Leicester</td>\n",
       "      <td>home</td>\n",
       "      <td>3</td>\n",
       "    </tr>\n",
       "    <tr>\n",
       "      <th>1</th>\n",
       "      <td>Bournemouth</td>\n",
       "      <td>Cardiff</td>\n",
       "      <td>home</td>\n",
       "      <td>3</td>\n",
       "    </tr>\n",
       "    <tr>\n",
       "      <th>2</th>\n",
       "      <td>Fulham</td>\n",
       "      <td>Crystal Palace</td>\n",
       "      <td>home</td>\n",
       "      <td>0</td>\n",
       "    </tr>\n",
       "    <tr>\n",
       "      <th>3</th>\n",
       "      <td>Huddersfield</td>\n",
       "      <td>Chelsea</td>\n",
       "      <td>home</td>\n",
       "      <td>0</td>\n",
       "    </tr>\n",
       "    <tr>\n",
       "      <th>4</th>\n",
       "      <td>Newcastle</td>\n",
       "      <td>Tottenham</td>\n",
       "      <td>home</td>\n",
       "      <td>0</td>\n",
       "    </tr>\n",
       "  </tbody>\n",
       "</table>\n",
       "</div>"
      ],
      "text/plain": [
       "           team        opponent venue  points\n",
       "0    Man United       Leicester  home       3\n",
       "1   Bournemouth         Cardiff  home       3\n",
       "2        Fulham  Crystal Palace  home       0\n",
       "3  Huddersfield         Chelsea  home       0\n",
       "4     Newcastle       Tottenham  home       0"
      ]
     },
     "execution_count": 7,
     "metadata": {},
     "output_type": "execute_result"
    }
   ],
   "source": [
    "modified_results.head()"
   ]
  },
  {
   "cell_type": "code",
   "execution_count": 8,
   "metadata": {},
   "outputs": [],
   "source": [
    "teams = pd.unique(results.HomeTeam)\n",
    "teams.sort()"
   ]
  },
  {
   "cell_type": "code",
   "execution_count": 9,
   "metadata": {},
   "outputs": [
    {
     "data": {
      "text/plain": [
       "array(['Arsenal', 'Bournemouth', 'Brighton', 'Burnley', 'Cardiff',\n",
       "       'Chelsea', 'Crystal Palace', 'Everton', 'Fulham', 'Huddersfield',\n",
       "       'Leicester', 'Liverpool', 'Man City', 'Man United', 'Newcastle',\n",
       "       'Southampton', 'Tottenham', 'Watford', 'West Ham', 'Wolves'],\n",
       "      dtype=object)"
      ]
     },
     "execution_count": 9,
     "metadata": {},
     "output_type": "execute_result"
    }
   ],
   "source": [
    "teams"
   ]
  },
  {
   "cell_type": "code",
   "execution_count": 10,
   "metadata": {},
   "outputs": [],
   "source": [
    "# create the W matrix\n",
    "mapping_table = pd.DataFrame(index=list(combinations(teams, 2)), columns=teams).fillna(0)"
   ]
  },
  {
   "cell_type": "code",
   "execution_count": 11,
   "metadata": {},
   "outputs": [],
   "source": [
    "for idx, row in mapping_table.iterrows():\n",
    "    mapping_table.loc[idx, idx[0]] = 1\n",
    "    mapping_table.loc[idx, idx[1]] = -1"
   ]
  },
  {
   "cell_type": "code",
   "execution_count": 12,
   "metadata": {},
   "outputs": [
    {
     "data": {
      "text/html": [
       "<div>\n",
       "<style scoped>\n",
       "    .dataframe tbody tr th:only-of-type {\n",
       "        vertical-align: middle;\n",
       "    }\n",
       "\n",
       "    .dataframe tbody tr th {\n",
       "        vertical-align: top;\n",
       "    }\n",
       "\n",
       "    .dataframe thead th {\n",
       "        text-align: right;\n",
       "    }\n",
       "</style>\n",
       "<table border=\"1\" class=\"dataframe\">\n",
       "  <thead>\n",
       "    <tr style=\"text-align: right;\">\n",
       "      <th></th>\n",
       "      <th>Arsenal</th>\n",
       "      <th>Bournemouth</th>\n",
       "      <th>Brighton</th>\n",
       "      <th>Burnley</th>\n",
       "      <th>Cardiff</th>\n",
       "      <th>Chelsea</th>\n",
       "      <th>Crystal Palace</th>\n",
       "      <th>Everton</th>\n",
       "      <th>Fulham</th>\n",
       "      <th>Huddersfield</th>\n",
       "      <th>Leicester</th>\n",
       "      <th>Liverpool</th>\n",
       "      <th>Man City</th>\n",
       "      <th>Man United</th>\n",
       "      <th>Newcastle</th>\n",
       "      <th>Southampton</th>\n",
       "      <th>Tottenham</th>\n",
       "      <th>Watford</th>\n",
       "      <th>West Ham</th>\n",
       "      <th>Wolves</th>\n",
       "    </tr>\n",
       "  </thead>\n",
       "  <tbody>\n",
       "    <tr>\n",
       "      <th>(Arsenal, Bournemouth)</th>\n",
       "      <td>1</td>\n",
       "      <td>-1</td>\n",
       "      <td>0</td>\n",
       "      <td>0</td>\n",
       "      <td>0</td>\n",
       "      <td>0</td>\n",
       "      <td>0</td>\n",
       "      <td>0</td>\n",
       "      <td>0</td>\n",
       "      <td>0</td>\n",
       "      <td>0</td>\n",
       "      <td>0</td>\n",
       "      <td>0</td>\n",
       "      <td>0</td>\n",
       "      <td>0</td>\n",
       "      <td>0</td>\n",
       "      <td>0</td>\n",
       "      <td>0</td>\n",
       "      <td>0</td>\n",
       "      <td>0</td>\n",
       "    </tr>\n",
       "    <tr>\n",
       "      <th>(Arsenal, Brighton)</th>\n",
       "      <td>1</td>\n",
       "      <td>0</td>\n",
       "      <td>-1</td>\n",
       "      <td>0</td>\n",
       "      <td>0</td>\n",
       "      <td>0</td>\n",
       "      <td>0</td>\n",
       "      <td>0</td>\n",
       "      <td>0</td>\n",
       "      <td>0</td>\n",
       "      <td>0</td>\n",
       "      <td>0</td>\n",
       "      <td>0</td>\n",
       "      <td>0</td>\n",
       "      <td>0</td>\n",
       "      <td>0</td>\n",
       "      <td>0</td>\n",
       "      <td>0</td>\n",
       "      <td>0</td>\n",
       "      <td>0</td>\n",
       "    </tr>\n",
       "    <tr>\n",
       "      <th>(Arsenal, Burnley)</th>\n",
       "      <td>1</td>\n",
       "      <td>0</td>\n",
       "      <td>0</td>\n",
       "      <td>-1</td>\n",
       "      <td>0</td>\n",
       "      <td>0</td>\n",
       "      <td>0</td>\n",
       "      <td>0</td>\n",
       "      <td>0</td>\n",
       "      <td>0</td>\n",
       "      <td>0</td>\n",
       "      <td>0</td>\n",
       "      <td>0</td>\n",
       "      <td>0</td>\n",
       "      <td>0</td>\n",
       "      <td>0</td>\n",
       "      <td>0</td>\n",
       "      <td>0</td>\n",
       "      <td>0</td>\n",
       "      <td>0</td>\n",
       "    </tr>\n",
       "    <tr>\n",
       "      <th>(Arsenal, Cardiff)</th>\n",
       "      <td>1</td>\n",
       "      <td>0</td>\n",
       "      <td>0</td>\n",
       "      <td>0</td>\n",
       "      <td>-1</td>\n",
       "      <td>0</td>\n",
       "      <td>0</td>\n",
       "      <td>0</td>\n",
       "      <td>0</td>\n",
       "      <td>0</td>\n",
       "      <td>0</td>\n",
       "      <td>0</td>\n",
       "      <td>0</td>\n",
       "      <td>0</td>\n",
       "      <td>0</td>\n",
       "      <td>0</td>\n",
       "      <td>0</td>\n",
       "      <td>0</td>\n",
       "      <td>0</td>\n",
       "      <td>0</td>\n",
       "    </tr>\n",
       "    <tr>\n",
       "      <th>(Arsenal, Chelsea)</th>\n",
       "      <td>1</td>\n",
       "      <td>0</td>\n",
       "      <td>0</td>\n",
       "      <td>0</td>\n",
       "      <td>0</td>\n",
       "      <td>-1</td>\n",
       "      <td>0</td>\n",
       "      <td>0</td>\n",
       "      <td>0</td>\n",
       "      <td>0</td>\n",
       "      <td>0</td>\n",
       "      <td>0</td>\n",
       "      <td>0</td>\n",
       "      <td>0</td>\n",
       "      <td>0</td>\n",
       "      <td>0</td>\n",
       "      <td>0</td>\n",
       "      <td>0</td>\n",
       "      <td>0</td>\n",
       "      <td>0</td>\n",
       "    </tr>\n",
       "  </tbody>\n",
       "</table>\n",
       "</div>"
      ],
      "text/plain": [
       "                        Arsenal  Bournemouth  Brighton  Burnley  Cardiff  \\\n",
       "(Arsenal, Bournemouth)        1           -1         0        0        0   \n",
       "(Arsenal, Brighton)           1            0        -1        0        0   \n",
       "(Arsenal, Burnley)            1            0         0       -1        0   \n",
       "(Arsenal, Cardiff)            1            0         0        0       -1   \n",
       "(Arsenal, Chelsea)            1            0         0        0        0   \n",
       "\n",
       "                        Chelsea  Crystal Palace  Everton  Fulham  \\\n",
       "(Arsenal, Bournemouth)        0               0        0       0   \n",
       "(Arsenal, Brighton)           0               0        0       0   \n",
       "(Arsenal, Burnley)            0               0        0       0   \n",
       "(Arsenal, Cardiff)            0               0        0       0   \n",
       "(Arsenal, Chelsea)           -1               0        0       0   \n",
       "\n",
       "                        Huddersfield  Leicester  Liverpool  Man City  \\\n",
       "(Arsenal, Bournemouth)             0          0          0         0   \n",
       "(Arsenal, Brighton)                0          0          0         0   \n",
       "(Arsenal, Burnley)                 0          0          0         0   \n",
       "(Arsenal, Cardiff)                 0          0          0         0   \n",
       "(Arsenal, Chelsea)                 0          0          0         0   \n",
       "\n",
       "                        Man United  Newcastle  Southampton  Tottenham  \\\n",
       "(Arsenal, Bournemouth)           0          0            0          0   \n",
       "(Arsenal, Brighton)              0          0            0          0   \n",
       "(Arsenal, Burnley)               0          0            0          0   \n",
       "(Arsenal, Cardiff)               0          0            0          0   \n",
       "(Arsenal, Chelsea)               0          0            0          0   \n",
       "\n",
       "                        Watford  West Ham  Wolves  \n",
       "(Arsenal, Bournemouth)        0         0       0  \n",
       "(Arsenal, Brighton)           0         0       0  \n",
       "(Arsenal, Burnley)            0         0       0  \n",
       "(Arsenal, Cardiff)            0         0       0  \n",
       "(Arsenal, Chelsea)            0         0       0  "
      ]
     },
     "execution_count": 12,
     "metadata": {},
     "output_type": "execute_result"
    }
   ],
   "source": [
    "mapping_table.head()"
   ]
  },
  {
   "cell_type": "code",
   "execution_count": 13,
   "metadata": {},
   "outputs": [],
   "source": [
    "def calculate_points_per_game_difference(teams):\n",
    "    \"\"\"Returns points per game difference for teams passed as input.\"\"\"\n",
    "    common_games = (modified_results[modified_results.team == teams[0]]\n",
    "                    .replace({'opponent': f'{teams[1]}'}, 'H2H')\n",
    "                    .assign(venue = lambda x: np.where(x.opponent == 'H2H', 'H2H', x.venue))\n",
    "                    .merge((modified_results[modified_results.team == teams[1]]\n",
    "                            .replace({'opponent': f'{teams[0]}'}, 'H2H')\n",
    "                            .assign(venue = lambda x: np.where(x.opponent == 'H2H', 'H2H', x.venue))),\n",
    "                           how='inner',\n",
    "                           on=['opponent','venue']))\n",
    "    \n",
    "    if not common_games.empty:\n",
    "        points_per_game_difference = ((common_games.points_x.sum()\n",
    "                                       - common_games.points_y.sum())\n",
    "                                      / common_games.shape[0])\n",
    "    else:\n",
    "        points_per_game_difference = 0\n",
    "    \n",
    "    return points_per_game_difference"
   ]
  },
  {
   "cell_type": "code",
   "execution_count": 14,
   "metadata": {},
   "outputs": [],
   "source": [
    "# convert mapping table to numpy array to create 'W'\n",
    "W = mapping_table.values"
   ]
  },
  {
   "cell_type": "code",
   "execution_count": 15,
   "metadata": {},
   "outputs": [],
   "source": [
    "# create 'r' using the function defined above\n",
    "r = (mapping_table\n",
    "     .index\n",
    "     .map(calculate_points_per_game_difference)\n",
    "     .values\n",
    "     .reshape(mapping_table.shape[0], 1))"
   ]
  },
  {
   "cell_type": "code",
   "execution_count": 16,
   "metadata": {},
   "outputs": [],
   "source": [
    "# minimizing sum of squared errors to get x\n",
    "x = np.linalg.lstsq(W, r, rcond=None)[0]"
   ]
  },
  {
   "cell_type": "code",
   "execution_count": 17,
   "metadata": {},
   "outputs": [
    {
     "data": {
      "text/plain": [
       "[('Man City', array([1.41821429])),\n",
       " ('Liverpool', array([1.19083333])),\n",
       " ('Tottenham', array([1.07666667])),\n",
       " ('Arsenal', array([0.83])),\n",
       " ('Chelsea', array([0.81583333])),\n",
       " ('Man United', array([0.47952381])),\n",
       " ('Everton', array([0.2372619])),\n",
       " ('Watford', array([0.15119048])),\n",
       " ('Wolves', array([0.11583333])),\n",
       " ('Bournemouth', array([0.11464286])),\n",
       " ('Leicester', array([0.0475])),\n",
       " ('Brighton', array([-0.17583333])),\n",
       " ('West Ham', array([-0.2325])),\n",
       " ('Crystal Palace', array([-0.61083333])),\n",
       " ('Newcastle', array([-0.78880952])),\n",
       " ('Huddersfield', array([-0.795])),\n",
       " ('Burnley', array([-0.82869048])),\n",
       " ('Southampton', array([-0.89869048])),\n",
       " ('Cardiff', array([-0.93297619])),\n",
       " ('Fulham', array([-1.21416667]))]"
      ]
     },
     "execution_count": 17,
     "metadata": {},
     "output_type": "execute_result"
    }
   ],
   "source": [
    "# unscaled x values for all clubs\n",
    "sorted(zip(teams, x), key=lambda x: x[1], reverse=True)"
   ]
  },
  {
   "cell_type": "code",
   "execution_count": 18,
   "metadata": {},
   "outputs": [
    {
     "data": {
      "text/plain": [
       "-3.0531133177191805e-16"
      ]
     },
     "execution_count": 18,
     "metadata": {},
     "output_type": "execute_result"
    }
   ],
   "source": [
    "x.sum()"
   ]
  },
  {
   "cell_type": "code",
   "execution_count": 19,
   "metadata": {},
   "outputs": [
    {
     "data": {
      "text/plain": [
       "1.3875"
      ]
     },
     "execution_count": 19,
     "metadata": {},
     "output_type": "execute_result"
    }
   ],
   "source": [
    "modified_results.points.mean()"
   ]
  },
  {
   "cell_type": "code",
   "execution_count": 20,
   "metadata": {},
   "outputs": [],
   "source": [
    "# multiplier used for scaling up equals number of matches played by team\n",
    "m = (modified_results\n",
    "     .groupby('team')\n",
    "     .points\n",
    "     .count()\n",
    "     .values\n",
    "     .reshape(len(mapping_table.columns), 1))"
   ]
  },
  {
   "cell_type": "code",
   "execution_count": 21,
   "metadata": {},
   "outputs": [
    {
     "data": {
      "text/plain": [
       "array([[2.2175    ],\n",
       "       [1.50214286],\n",
       "       [1.21166667],\n",
       "       [0.55880952],\n",
       "       [0.45452381],\n",
       "       [2.20333333],\n",
       "       [0.77666667],\n",
       "       [1.6247619 ],\n",
       "       [0.17333333],\n",
       "       [0.5925    ],\n",
       "       [1.435     ],\n",
       "       [2.57833333],\n",
       "       [2.80571429],\n",
       "       [1.86702381],\n",
       "       [0.59869048],\n",
       "       [0.48880952],\n",
       "       [2.46416667],\n",
       "       [1.53869048],\n",
       "       [1.155     ],\n",
       "       [1.50333333]])"
      ]
     },
     "execution_count": 21,
     "metadata": {},
     "output_type": "execute_result"
    }
   ],
   "source": [
    "x + modified_results.points.mean()"
   ]
  },
  {
   "cell_type": "code",
   "execution_count": 22,
   "metadata": {},
   "outputs": [],
   "source": [
    "# add average points per team per game to x and multiply by number of matches\n",
    "adjusted_points = m * (x + modified_results.points.mean())"
   ]
  },
  {
   "cell_type": "code",
   "execution_count": 23,
   "metadata": {},
   "outputs": [
    {
     "data": {
      "text/plain": [
       "[('Man City', array([33.66857143])),\n",
       " ('Liverpool', array([30.94])),\n",
       " ('Tottenham', array([29.57])),\n",
       " ('Arsenal', array([26.61])),\n",
       " ('Chelsea', array([26.44])),\n",
       " ('Man United', array([22.40428571])),\n",
       " ('Everton', array([19.49714286])),\n",
       " ('Watford', array([18.46428571])),\n",
       " ('Wolves', array([18.04])),\n",
       " ('Bournemouth', array([18.02571429])),\n",
       " ('Leicester', array([17.22])),\n",
       " ('Brighton', array([14.54])),\n",
       " ('West Ham', array([13.86])),\n",
       " ('Crystal Palace', array([9.32])),\n",
       " ('Newcastle', array([7.18428571])),\n",
       " ('Huddersfield', array([7.11])),\n",
       " ('Burnley', array([6.70571429])),\n",
       " ('Southampton', array([5.86571429])),\n",
       " ('Cardiff', array([5.45428571])),\n",
       " ('Fulham', array([2.08]))]"
      ]
     },
     "execution_count": 23,
     "metadata": {},
     "output_type": "execute_result"
    }
   ],
   "source": [
    "sorted(zip(teams, adjusted_points), key=lambda x: x[1], reverse=True)"
   ]
  }
 ],
 "metadata": {
  "kernelspec": {
   "display_name": "Python 3",
   "language": "python",
   "name": "python3"
  },
  "language_info": {
   "codemirror_mode": {
    "name": "ipython",
    "version": 3
   },
   "file_extension": ".py",
   "mimetype": "text/x-python",
   "name": "python",
   "nbconvert_exporter": "python",
   "pygments_lexer": "ipython3",
   "version": "3.6.5"
  }
 },
 "nbformat": 4,
 "nbformat_minor": 2
}
